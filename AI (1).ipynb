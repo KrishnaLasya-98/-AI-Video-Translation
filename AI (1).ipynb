{
  "nbformat": 4,
  "nbformat_minor": 0,
  "metadata": {
    "colab": {
      "provenance": [],
      "gpuType": "T4"
    },
    "kernelspec": {
      "name": "python3",
      "display_name": "Python 3"
    },
    "language_info": {
      "name": "python"
    },
    "accelerator": "GPU"
  },
  "cells": [
    {
      "cell_type": "markdown",
      "source": [
        "**New way**\n",
        "\n",
        "\n",
        "#\n",
        "3\n",
        "3\n",
        "\n",
        "3\n",
        "3 :)\n",
        "\n",
        "> Helloo lets start again\n",
        "\n",
        "\n",
        "\n"
      ],
      "metadata": {
        "id": "eZ3TaLrzn8eR"
      }
    },
    {
      "cell_type": "code",
      "source": [
        "# Mount Google Drive (with force_remount to ensure fresh mount)\n",
        "from google.colab import drive\n",
        "drive.mount('/content/drive', force_remount=True)\n",
        "\n",
        "# Define paths based on folder contents\n",
        "import os\n",
        "CHECKPOINTS_PATH = '/content/drive/My Drive/Checkpoints/'  # Correct folder\n",
        "VIDEO_PATH = os.path.join(CHECKPOINTS_PATH, 'Video_input.mp4')  # Updated file name\n",
        "CHECKPOINT_PATH = os.path.join(CHECKPOINTS_PATH, 'Copy of Wav2Lip-SD-GAN.pt')  # Updated file name\n",
        "\n",
        "# Check if the checkpoints folder exists\n",
        "if os.path.exists(CHECKPOINTS_PATH):\n",
        "    print(f\"Checkpoints folder found at: {CHECKPOINTS_PATH}\")\n",
        "else:\n",
        "    print(f\"Checkpoints folder NOT FOUND at: {CHECKPOINTS_PATH}\")\n",
        "    print(\"Please verify the folder path. Possible locations:\")\n",
        "    !find \"/content/drive/My Drive\" -type d -name \"Checkpoints\"\n",
        "    !find \"/content/drive/My Drive\" -type d -name \"checkpoints\"\n",
        "    !find \"/content/drive/My Drive\" -type d -iname \"*checkpoint*\"\n",
        "    print(\"If the correct folder is found above, update CHECKPOINTS_PATH to the correct path.\")\n",
        "    print(\"If not found, check Google Drive manually.\")\n",
        "\n",
        "# Verify files\n",
        "print(\"\\nVideo exists:\", os.path.exists(VIDEO_PATH))\n",
        "print(\"Checkpoint exists:\", os.path.exists(CHECKPOINT_PATH))\n",
        "\n",
        "# List folder contents\n",
        "if os.path.exists(CHECKPOINTS_PATH):\n",
        "    print(\"Files in checkpoints folder:\", os.listdir(CHECKPOINTS_PATH))\n",
        "else:\n",
        "    print(\"Cannot list files: Checkpoints folder does not exist.\")"
      ],
      "metadata": {
        "colab": {
          "base_uri": "https://localhost:8080/"
        },
        "id": "1xlQbAD0oJOn",
        "outputId": "905c0177-eed7-430a-8800-8aa6079777bd"
      },
      "execution_count": 7,
      "outputs": [
        {
          "output_type": "stream",
          "name": "stdout",
          "text": [
            "Mounted at /content/drive\n",
            "Checkpoints folder found at: /content/drive/My Drive/Checkpoints/\n",
            "\n",
            "Video exists: True\n",
            "Checkpoint exists: True\n",
            "Files in checkpoints folder: ['Input_video.mp4', 'Copy of .DS_Store', 'Copy of Wav2Lip-SD-GAN.pt', 'Copy of Wav2Lip-SD-NOGAN.pt', 'Video_input.mp4', 'Copy of Video_input.mp4', 'extracted_audios.wav']\n"
          ]
        }
      ]
    },
    {
      "cell_type": "code",
      "source": [
        "# Clone Wav2Lip repository\n",
        "!git clone https://github.com/Rudrabha/Wav2Lip.git\n",
        "!mkdir -p Wav2Lip/checkpoints\n",
        "\n",
        "# Copy checkpoint to Wav2Lip directory\n",
        "!cp \"{CHECKPOINT_PATH}\" \"Wav2Lip/checkpoints/wav2lip_gan.pth\"\n",
        "print(\"Checkpoint copied to Wav2Lip/checkpoints:\", os.path.exists('Wav2Lip/checkpoints/wav2lip_gan.pth'))\n",
        "\n",
        "# Verify checkpoint file\n",
        "if os.path.exists('Wav2Lip/checkpoints/wav2lip_gan.pth'):\n",
        "    print(\"Checkpoint successfully set up for Wav2Lip.\")\n",
        "else:\n",
        "    print(\"Checkpoint copy failed. Please check CHECKPOINT_PATH and try uploading manually.\")\n",
        "    from google.colab import files\n",
        "    uploaded = files.upload()  # Upload Copy of Wav2Lip-SD-GAN.pt\n",
        "    !mv \"Copy of Wav2Lip-SD-GAN.pt\" \"Wav2Lip/checkpoints/wav2lip_gan.pth\"\n",
        "    print(\"Manual upload completed:\", os.path.exists('Wav2Lip/checkpoints/wav2lip_gan.pth'))"
      ],
      "metadata": {
        "colab": {
          "base_uri": "https://localhost:8080/"
        },
        "id": "nX05rzTtySAA",
        "outputId": "383881b5-5695-4f30-8756-d0654dbf823d"
      },
      "execution_count": 8,
      "outputs": [
        {
          "output_type": "stream",
          "name": "stdout",
          "text": [
            "fatal: destination path 'Wav2Lip' already exists and is not an empty directory.\n",
            "Checkpoint copied to Wav2Lip/checkpoints: True\n",
            "Checkpoint successfully set up for Wav2Lip.\n"
          ]
        }
      ]
    },
    {
      "cell_type": "code",
      "source": [
        "!pip install numpy==1.24.4"
      ],
      "metadata": {
        "colab": {
          "base_uri": "https://localhost:8080/"
        },
        "id": "Lnx5FfOM-k_6",
        "outputId": "a76346cc-bb9b-456f-ee6f-7189628ecba9"
      },
      "execution_count": 9,
      "outputs": [
        {
          "output_type": "stream",
          "name": "stdout",
          "text": [
            "Requirement already satisfied: numpy==1.24.4 in /usr/local/lib/python3.11/dist-packages (1.24.4)\n"
          ]
        }
      ]
    },
    {
      "cell_type": "code",
      "source": [
        "!pip install librosa==0.8.0"
      ],
      "metadata": {
        "colab": {
          "base_uri": "https://localhost:8080/"
        },
        "id": "JMnXvwGyAd61",
        "outputId": "c21c75ca-79da-4f56-c8c0-9458191ffae5"
      },
      "execution_count": 10,
      "outputs": [
        {
          "output_type": "stream",
          "name": "stdout",
          "text": [
            "Requirement already satisfied: librosa==0.8.0 in /usr/local/lib/python3.11/dist-packages (0.8.0)\n",
            "Requirement already satisfied: audioread>=2.0.0 in /usr/local/lib/python3.11/dist-packages (from librosa==0.8.0) (3.0.1)\n",
            "Requirement already satisfied: numpy>=1.15.0 in /usr/local/lib/python3.11/dist-packages (from librosa==0.8.0) (1.24.4)\n",
            "Requirement already satisfied: scipy>=1.0.0 in /usr/local/lib/python3.11/dist-packages (from librosa==0.8.0) (1.15.2)\n",
            "Requirement already satisfied: scikit-learn!=0.19.0,>=0.14.0 in /usr/local/lib/python3.11/dist-packages (from librosa==0.8.0) (1.6.1)\n",
            "Requirement already satisfied: joblib>=0.14 in /usr/local/lib/python3.11/dist-packages (from librosa==0.8.0) (1.4.2)\n",
            "Requirement already satisfied: decorator>=3.0.0 in /usr/local/lib/python3.11/dist-packages (from librosa==0.8.0) (4.4.2)\n",
            "Requirement already satisfied: resampy>=0.2.2 in /usr/local/lib/python3.11/dist-packages (from librosa==0.8.0) (0.4.3)\n",
            "Requirement already satisfied: numba>=0.43.0 in /usr/local/lib/python3.11/dist-packages (from librosa==0.8.0) (0.60.0)\n",
            "Requirement already satisfied: soundfile>=0.9.0 in /usr/local/lib/python3.11/dist-packages (from librosa==0.8.0) (0.13.1)\n",
            "Requirement already satisfied: pooch>=1.0 in /usr/local/lib/python3.11/dist-packages (from librosa==0.8.0) (1.8.2)\n",
            "Requirement already satisfied: llvmlite<0.44,>=0.43.0dev0 in /usr/local/lib/python3.11/dist-packages (from numba>=0.43.0->librosa==0.8.0) (0.43.0)\n",
            "Requirement already satisfied: platformdirs>=2.5.0 in /usr/local/lib/python3.11/dist-packages (from pooch>=1.0->librosa==0.8.0) (4.3.7)\n",
            "Requirement already satisfied: packaging>=20.0 in /usr/local/lib/python3.11/dist-packages (from pooch>=1.0->librosa==0.8.0) (24.2)\n",
            "Requirement already satisfied: requests>=2.19.0 in /usr/local/lib/python3.11/dist-packages (from pooch>=1.0->librosa==0.8.0) (2.32.3)\n",
            "Requirement already satisfied: threadpoolctl>=3.1.0 in /usr/local/lib/python3.11/dist-packages (from scikit-learn!=0.19.0,>=0.14.0->librosa==0.8.0) (3.6.0)\n",
            "Requirement already satisfied: cffi>=1.0 in /usr/local/lib/python3.11/dist-packages (from soundfile>=0.9.0->librosa==0.8.0) (1.17.1)\n",
            "Requirement already satisfied: pycparser in /usr/local/lib/python3.11/dist-packages (from cffi>=1.0->soundfile>=0.9.0->librosa==0.8.0) (2.22)\n",
            "Requirement already satisfied: charset-normalizer<4,>=2 in /usr/local/lib/python3.11/dist-packages (from requests>=2.19.0->pooch>=1.0->librosa==0.8.0) (3.4.1)\n",
            "Requirement already satisfied: idna<4,>=2.5 in /usr/local/lib/python3.11/dist-packages (from requests>=2.19.0->pooch>=1.0->librosa==0.8.0) (3.10)\n",
            "Requirement already satisfied: urllib3<3,>=1.21.1 in /usr/local/lib/python3.11/dist-packages (from requests>=2.19.0->pooch>=1.0->librosa==0.8.0) (2.4.0)\n",
            "Requirement already satisfied: certifi>=2017.4.17 in /usr/local/lib/python3.11/dist-packages (from requests>=2.19.0->pooch>=1.0->librosa==0.8.0) (2025.4.26)\n"
          ]
        }
      ]
    },
    {
      "cell_type": "code",
      "source": [
        "!pip install librosa --upgrade\n"
      ],
      "metadata": {
        "colab": {
          "base_uri": "https://localhost:8080/"
        },
        "id": "kRckBTgC-k2e",
        "outputId": "7b56f805-8a30-473f-bbc9-535cd24c0517"
      },
      "execution_count": 14,
      "outputs": [
        {
          "output_type": "stream",
          "name": "stdout",
          "text": [
            "Requirement already satisfied: librosa in /usr/local/lib/python3.11/dist-packages (0.8.0)\n",
            "Collecting librosa\n",
            "  Downloading librosa-0.11.0-py3-none-any.whl.metadata (8.7 kB)\n",
            "Requirement already satisfied: audioread>=2.1.9 in /usr/local/lib/python3.11/dist-packages (from librosa) (3.0.1)\n",
            "Requirement already satisfied: numba>=0.51.0 in /usr/local/lib/python3.11/dist-packages (from librosa) (0.60.0)\n",
            "Requirement already satisfied: numpy>=1.22.3 in /usr/local/lib/python3.11/dist-packages (from librosa) (1.24.4)\n",
            "Requirement already satisfied: scipy>=1.6.0 in /usr/local/lib/python3.11/dist-packages (from librosa) (1.15.2)\n",
            "Requirement already satisfied: scikit-learn>=1.1.0 in /usr/local/lib/python3.11/dist-packages (from librosa) (1.6.1)\n",
            "Requirement already satisfied: joblib>=1.0 in /usr/local/lib/python3.11/dist-packages (from librosa) (1.4.2)\n",
            "Requirement already satisfied: decorator>=4.3.0 in /usr/local/lib/python3.11/dist-packages (from librosa) (4.4.2)\n",
            "Requirement already satisfied: soundfile>=0.12.1 in /usr/local/lib/python3.11/dist-packages (from librosa) (0.13.1)\n",
            "Requirement already satisfied: pooch>=1.1 in /usr/local/lib/python3.11/dist-packages (from librosa) (1.8.2)\n",
            "Requirement already satisfied: soxr>=0.3.2 in /usr/local/lib/python3.11/dist-packages (from librosa) (0.5.0.post1)\n",
            "Requirement already satisfied: typing_extensions>=4.1.1 in /usr/local/lib/python3.11/dist-packages (from librosa) (4.13.2)\n",
            "Requirement already satisfied: lazy_loader>=0.1 in /usr/local/lib/python3.11/dist-packages (from librosa) (0.4)\n",
            "Requirement already satisfied: msgpack>=1.0 in /usr/local/lib/python3.11/dist-packages (from librosa) (1.1.0)\n",
            "Requirement already satisfied: packaging in /usr/local/lib/python3.11/dist-packages (from lazy_loader>=0.1->librosa) (24.2)\n",
            "Requirement already satisfied: llvmlite<0.44,>=0.43.0dev0 in /usr/local/lib/python3.11/dist-packages (from numba>=0.51.0->librosa) (0.43.0)\n",
            "Requirement already satisfied: platformdirs>=2.5.0 in /usr/local/lib/python3.11/dist-packages (from pooch>=1.1->librosa) (4.3.7)\n",
            "Requirement already satisfied: requests>=2.19.0 in /usr/local/lib/python3.11/dist-packages (from pooch>=1.1->librosa) (2.32.3)\n",
            "Requirement already satisfied: threadpoolctl>=3.1.0 in /usr/local/lib/python3.11/dist-packages (from scikit-learn>=1.1.0->librosa) (3.6.0)\n",
            "Requirement already satisfied: cffi>=1.0 in /usr/local/lib/python3.11/dist-packages (from soundfile>=0.12.1->librosa) (1.17.1)\n",
            "Requirement already satisfied: pycparser in /usr/local/lib/python3.11/dist-packages (from cffi>=1.0->soundfile>=0.12.1->librosa) (2.22)\n",
            "Requirement already satisfied: charset-normalizer<4,>=2 in /usr/local/lib/python3.11/dist-packages (from requests>=2.19.0->pooch>=1.1->librosa) (3.4.1)\n",
            "Requirement already satisfied: idna<4,>=2.5 in /usr/local/lib/python3.11/dist-packages (from requests>=2.19.0->pooch>=1.1->librosa) (3.10)\n",
            "Requirement already satisfied: urllib3<3,>=1.21.1 in /usr/local/lib/python3.11/dist-packages (from requests>=2.19.0->pooch>=1.1->librosa) (2.4.0)\n",
            "Requirement already satisfied: certifi>=2017.4.17 in /usr/local/lib/python3.11/dist-packages (from requests>=2.19.0->pooch>=1.1->librosa) (2025.4.26)\n",
            "Downloading librosa-0.11.0-py3-none-any.whl (260 kB)\n",
            "\u001b[2K   \u001b[90m━━━━━━━━━━━━━━━━━━━━━━━━━━━━━━━━━━━━━━━━\u001b[0m \u001b[32m260.7/260.7 kB\u001b[0m \u001b[31m7.1 MB/s\u001b[0m eta \u001b[36m0:00:00\u001b[0m\n",
            "\u001b[?25hInstalling collected packages: librosa\n",
            "  Attempting uninstall: librosa\n",
            "    Found existing installation: librosa 0.8.0\n",
            "    Uninstalling librosa-0.8.0:\n",
            "      Successfully uninstalled librosa-0.8.0\n",
            "Successfully installed librosa-0.11.0\n"
          ]
        }
      ]
    },
    {
      "cell_type": "code",
      "source": [
        "# Install compatible dependencies\n",
        "!pip install opencv-contrib-python==4.11.0.86 torch torchvision gTTS pydub SpeechRecognition deep-translator moviepy numba==0.60.0 llvmlite==0.43.0\n",
        "\n",
        "# Install Wav2Lip requirements, excluding problematic versions\n",
        "with open('Wav2Lip/requirements.txt', 'r') as f:\n",
        "    requirements = f.readlines()\n",
        "filtered_requirements = [req for req in requirements if not any(x in req for x in ['opencv-python==4.1.0.25', 'numpy==1.17.1', 'librosa==0.7.0', 'torch==1.1.0', 'torchvision==0.3.0', 'numba==0.48', 'llvmlite<0.32.0'])]\n",
        "filtered_requirements = [req.replace('tqdm==4.45.0', 'tqdm>=4.45.0') for req in filtered_requirements]\n",
        "with open('Wav2Lip/filtered_requirements.txt', 'w') as f:\n",
        "    f.writelines(filtered_requirements)\n",
        "!pip install -r Wav2Lip/filtered_requirements.txt\n",
        "\n",
        "# Verify installations\n",
        "import importlib\n",
        "required_libraries = ['librosa', 'numpy', 'cv2', 'torch', 'torchvision', 'gtts', 'pydub', 'speech_recognition', 'deep_translator', 'moviepy', 'numba']\n",
        "for lib in required_libraries:\n",
        "    try:\n",
        "        importlib.import_module(lib)\n",
        "        print(f\"{lib} is installed.\")\n",
        "    except Exception as e:\n",
        "        print(f\"{lib} failed to import: {e}\")"
      ],
      "metadata": {
        "colab": {
          "base_uri": "https://localhost:8080/"
        },
        "id": "t0gQsgZc1D-I",
        "outputId": "f77d8364-8102-4c22-fca0-08f814609bc5"
      },
      "execution_count": 15,
      "outputs": [
        {
          "output_type": "stream",
          "name": "stdout",
          "text": [
            "Requirement already satisfied: opencv-contrib-python==4.11.0.86 in /usr/local/lib/python3.11/dist-packages (4.11.0.86)\n",
            "Requirement already satisfied: torch in /usr/local/lib/python3.11/dist-packages (2.6.0+cu124)\n",
            "Requirement already satisfied: torchvision in /usr/local/lib/python3.11/dist-packages (0.21.0+cu124)\n",
            "Requirement already satisfied: gTTS in /usr/local/lib/python3.11/dist-packages (2.5.4)\n",
            "Requirement already satisfied: pydub in /usr/local/lib/python3.11/dist-packages (0.25.1)\n",
            "Requirement already satisfied: SpeechRecognition in /usr/local/lib/python3.11/dist-packages (3.14.2)\n",
            "Requirement already satisfied: deep-translator in /usr/local/lib/python3.11/dist-packages (1.11.4)\n",
            "Requirement already satisfied: moviepy in /usr/local/lib/python3.11/dist-packages (1.0.3)\n",
            "Requirement already satisfied: numba==0.60.0 in /usr/local/lib/python3.11/dist-packages (0.60.0)\n",
            "Requirement already satisfied: llvmlite==0.43.0 in /usr/local/lib/python3.11/dist-packages (0.43.0)\n",
            "Requirement already satisfied: numpy>=1.21.2 in /usr/local/lib/python3.11/dist-packages (from opencv-contrib-python==4.11.0.86) (1.24.4)\n",
            "Requirement already satisfied: filelock in /usr/local/lib/python3.11/dist-packages (from torch) (3.18.0)\n",
            "Requirement already satisfied: typing-extensions>=4.10.0 in /usr/local/lib/python3.11/dist-packages (from torch) (4.13.2)\n",
            "Requirement already satisfied: networkx in /usr/local/lib/python3.11/dist-packages (from torch) (3.4.2)\n",
            "Requirement already satisfied: jinja2 in /usr/local/lib/python3.11/dist-packages (from torch) (3.1.6)\n",
            "Requirement already satisfied: fsspec in /usr/local/lib/python3.11/dist-packages (from torch) (2025.3.2)\n",
            "Requirement already satisfied: nvidia-cuda-nvrtc-cu12==12.4.127 in /usr/local/lib/python3.11/dist-packages (from torch) (12.4.127)\n",
            "Requirement already satisfied: nvidia-cuda-runtime-cu12==12.4.127 in /usr/local/lib/python3.11/dist-packages (from torch) (12.4.127)\n",
            "Requirement already satisfied: nvidia-cuda-cupti-cu12==12.4.127 in /usr/local/lib/python3.11/dist-packages (from torch) (12.4.127)\n",
            "Requirement already satisfied: nvidia-cudnn-cu12==9.1.0.70 in /usr/local/lib/python3.11/dist-packages (from torch) (9.1.0.70)\n",
            "Requirement already satisfied: nvidia-cublas-cu12==12.4.5.8 in /usr/local/lib/python3.11/dist-packages (from torch) (12.4.5.8)\n",
            "Requirement already satisfied: nvidia-cufft-cu12==11.2.1.3 in /usr/local/lib/python3.11/dist-packages (from torch) (11.2.1.3)\n",
            "Requirement already satisfied: nvidia-curand-cu12==10.3.5.147 in /usr/local/lib/python3.11/dist-packages (from torch) (10.3.5.147)\n",
            "Requirement already satisfied: nvidia-cusolver-cu12==11.6.1.9 in /usr/local/lib/python3.11/dist-packages (from torch) (11.6.1.9)\n",
            "Requirement already satisfied: nvidia-cusparse-cu12==12.3.1.170 in /usr/local/lib/python3.11/dist-packages (from torch) (12.3.1.170)\n",
            "Requirement already satisfied: nvidia-cusparselt-cu12==0.6.2 in /usr/local/lib/python3.11/dist-packages (from torch) (0.6.2)\n",
            "Requirement already satisfied: nvidia-nccl-cu12==2.21.5 in /usr/local/lib/python3.11/dist-packages (from torch) (2.21.5)\n",
            "Requirement already satisfied: nvidia-nvtx-cu12==12.4.127 in /usr/local/lib/python3.11/dist-packages (from torch) (12.4.127)\n",
            "Requirement already satisfied: nvidia-nvjitlink-cu12==12.4.127 in /usr/local/lib/python3.11/dist-packages (from torch) (12.4.127)\n",
            "Requirement already satisfied: triton==3.2.0 in /usr/local/lib/python3.11/dist-packages (from torch) (3.2.0)\n",
            "Requirement already satisfied: sympy==1.13.1 in /usr/local/lib/python3.11/dist-packages (from torch) (1.13.1)\n",
            "Requirement already satisfied: mpmath<1.4,>=1.1.0 in /usr/local/lib/python3.11/dist-packages (from sympy==1.13.1->torch) (1.3.0)\n",
            "Requirement already satisfied: pillow!=8.3.*,>=5.3.0 in /usr/local/lib/python3.11/dist-packages (from torchvision) (11.2.1)\n",
            "Requirement already satisfied: requests<3,>=2.27 in /usr/local/lib/python3.11/dist-packages (from gTTS) (2.32.3)\n",
            "Requirement already satisfied: click<8.2,>=7.1 in /usr/local/lib/python3.11/dist-packages (from gTTS) (8.1.8)\n",
            "Requirement already satisfied: beautifulsoup4<5.0.0,>=4.9.1 in /usr/local/lib/python3.11/dist-packages (from deep-translator) (4.13.4)\n",
            "Requirement already satisfied: decorator<5.0,>=4.0.2 in /usr/local/lib/python3.11/dist-packages (from moviepy) (4.4.2)\n",
            "Requirement already satisfied: tqdm<5.0,>=4.11.2 in /usr/local/lib/python3.11/dist-packages (from moviepy) (4.67.1)\n",
            "Requirement already satisfied: proglog<=1.0.0 in /usr/local/lib/python3.11/dist-packages (from moviepy) (0.1.11)\n",
            "Requirement already satisfied: imageio<3.0,>=2.5 in /usr/local/lib/python3.11/dist-packages (from moviepy) (2.37.0)\n",
            "Requirement already satisfied: imageio-ffmpeg>=0.2.0 in /usr/local/lib/python3.11/dist-packages (from moviepy) (0.6.0)\n",
            "Requirement already satisfied: soupsieve>1.2 in /usr/local/lib/python3.11/dist-packages (from beautifulsoup4<5.0.0,>=4.9.1->deep-translator) (2.7)\n",
            "Requirement already satisfied: charset-normalizer<4,>=2 in /usr/local/lib/python3.11/dist-packages (from requests<3,>=2.27->gTTS) (3.4.1)\n",
            "Requirement already satisfied: idna<4,>=2.5 in /usr/local/lib/python3.11/dist-packages (from requests<3,>=2.27->gTTS) (3.10)\n",
            "Requirement already satisfied: urllib3<3,>=1.21.1 in /usr/local/lib/python3.11/dist-packages (from requests<3,>=2.27->gTTS) (2.4.0)\n",
            "Requirement already satisfied: certifi>=2017.4.17 in /usr/local/lib/python3.11/dist-packages (from requests<3,>=2.27->gTTS) (2025.4.26)\n",
            "Requirement already satisfied: MarkupSafe>=2.0 in /usr/local/lib/python3.11/dist-packages (from jinja2->torch) (3.0.2)\n",
            "Requirement already satisfied: opencv-contrib-python>=4.2.0.34 in /usr/local/lib/python3.11/dist-packages (from -r Wav2Lip/filtered_requirements.txt (line 1)) (4.11.0.86)\n",
            "Requirement already satisfied: tqdm>=4.45.0 in /usr/local/lib/python3.11/dist-packages (from -r Wav2Lip/filtered_requirements.txt (line 2)) (4.67.1)\n",
            "Requirement already satisfied: numpy>=1.21.2 in /usr/local/lib/python3.11/dist-packages (from opencv-contrib-python>=4.2.0.34->-r Wav2Lip/filtered_requirements.txt (line 1)) (1.24.4)\n",
            "librosa is installed.\n",
            "numpy is installed.\n",
            "cv2 is installed.\n",
            "torch is installed.\n",
            "torchvision is installed.\n",
            "gtts is installed.\n",
            "pydub is installed.\n",
            "speech_recognition is installed.\n",
            "deep_translator is installed.\n",
            "moviepy is installed.\n",
            "numba is installed.\n"
          ]
        }
      ]
    },
    {
      "cell_type": "code",
      "source": [
        "import librosa\n",
        "import numpy\n",
        "import cv2\n",
        "import tqdm\n",
        "\n",
        "print(\"✅ Library versions:\")\n",
        "print(f\"librosa version: {librosa.__version__}\")\n",
        "print(f\"numpy version: {numpy.__version__}\")\n",
        "print(f\"cv2 version: {cv2.__version__}\")\n",
        "print(f\"tqdm version: {tqdm.__version__}\")\n",
        "\n",
        "''' Library versions:\n",
        "librosa version: 0.10.2\n",
        "numpy version: 1.25.2\n",
        "cv2 version: 4.11.0\n",
        "tqdm version: 4.67.1\n",
        "'''\n",
        "\n"
      ],
      "metadata": {
        "colab": {
          "base_uri": "https://localhost:8080/",
          "height": 140
        },
        "id": "BTXB-k5P9WPI",
        "outputId": "9823d2d7-4bd4-4fc9-db66-48d479a08b11"
      },
      "execution_count": 16,
      "outputs": [
        {
          "output_type": "stream",
          "name": "stdout",
          "text": [
            "✅ Library versions:\n",
            "librosa version: 0.8.0\n",
            "numpy version: 1.24.4\n",
            "cv2 version: 4.11.0\n",
            "tqdm version: 4.67.1\n"
          ]
        },
        {
          "output_type": "execute_result",
          "data": {
            "text/plain": [
              "' Library versions:\\nlibrosa version: 0.10.2\\nnumpy version: 1.25.2\\ncv2 version: 4.11.0\\ntqdm version: 4.67.1\\n'"
            ],
            "application/vnd.google.colaboratory.intrinsic+json": {
              "type": "string"
            }
          },
          "metadata": {},
          "execution_count": 16
        }
      ]
    },
    {
      "cell_type": "code",
      "source": [
        "from moviepy.editor import VideoFileClip\n",
        "import os\n",
        "\n",
        "# Ensure VIDEO_PATH and CHECKPOINTS_PATH are defined\n",
        "VIDEO_PATH = '/content/drive/My Drive/Checkpoints/Input_video.mp4'\n",
        "CHECKPOINTS_PATH = '/content/drive/My Drive/Checkpoints/'\n",
        "\n",
        "# Verify video file exists\n",
        "if not os.path.exists(VIDEO_PATH):\n",
        "    print(f\"Video file not found at: {VIDEO_PATH}\")\n",
        "    print(\"Please verify VIDEO_PATH or upload the video:\")\n",
        "    from google.colab import files\n",
        "    uploaded = files.upload()\n",
        "    !mv \"Video_input.mp4\" \"{CHECKPOINTS_PATH}\"\n",
        "else:\n",
        "    print(f\"Video file found at: {VIDEO_PATH}\")\n",
        "\n",
        "# Extract audio\n",
        "try:\n",
        "    video = VideoFileClip(VIDEO_PATH)\n",
        "    audio_path = os.path.join(CHECKPOINTS_PATH, 'extracted_audios.wav')\n",
        "    video.audio.write_audiofile(audio_path)\n",
        "    video.close()\n",
        "    print(\"Audio extracted to:\", audio_path)\n",
        "    print(\"Audio file exists:\", os.path.exists(audio_path))\n",
        "except Exception as e:\n",
        "    print(f\"Error extracting audio: {e}\")"
      ],
      "metadata": {
        "colab": {
          "base_uri": "https://localhost:8080/"
        },
        "id": "lSpOXb7i3QS1",
        "outputId": "01671cd0-9483-4e9d-8f30-74fc67c55380"
      },
      "execution_count": 17,
      "outputs": [
        {
          "output_type": "stream",
          "name": "stdout",
          "text": [
            "Video file found at: /content/drive/My Drive/Checkpoints/Input_video.mp4\n",
            "MoviePy - Writing audio in /content/drive/My Drive/Checkpoints/extracted_audios.wav\n"
          ]
        },
        {
          "output_type": "stream",
          "name": "stderr",
          "text": []
        },
        {
          "output_type": "stream",
          "name": "stdout",
          "text": [
            "MoviePy - Done.\n",
            "Audio extracted to: /content/drive/My Drive/Checkpoints/extracted_audios.wav\n",
            "Audio file exists: True\n"
          ]
        }
      ]
    },
    {
      "cell_type": "code",
      "source": [
        "import os\n",
        "CHECKPOINTS_PATH = '/content/drive/My Drive/Checkpoints/'\n",
        "audio_path = os.path.join(CHECKPOINTS_PATH, 'extracted_audios.wav')\n",
        "output_path = os.path.join(CHECKPOINTS_PATH, 'lip_synced_output.mp4')\n",
        "!python Wav2Lip/inference.py --checkpoint_path Wav2Lip/checkpoints/wav2lip_gan.pth --face \"{VIDEO_PATH}\" --audio \"{audio_path}\" --outfile \"{output_path}\"\n",
        "print(\"Lip-synced video saved to:\", output_path)\n",
        "print(\"Output file exists:\", os.path.exists(output_path))"
      ],
      "metadata": {
        "colab": {
          "base_uri": "https://localhost:8080/"
        },
        "id": "qOBU58iN46sY",
        "outputId": "bfcbb54a-3552-4b0d-e6a8-dfc0bed9b5ee"
      },
      "execution_count": 18,
      "outputs": [
        {
          "output_type": "stream",
          "name": "stdout",
          "text": [
            "Using cpu for inference.\n",
            "Reading video frames...\n",
            "Number of frames available for inference: 1113\n",
            "Traceback (most recent call last):\n",
            "  File \"/content/Wav2Lip/inference.py\", line 280, in <module>\n",
            "    main()\n",
            "  File \"/content/Wav2Lip/inference.py\", line 225, in main\n",
            "    mel = audio.melspectrogram(wav)\n",
            "          ^^^^^^^^^^^^^^^^^^^^^^^^^\n",
            "  File \"/content/Wav2Lip/audio.py\", line 47, in melspectrogram\n",
            "    S = _amp_to_db(_linear_to_mel(np.abs(D))) - hp.ref_level_db\n",
            "                   ^^^^^^^^^^^^^^^^^^^^^^^^^\n",
            "  File \"/content/Wav2Lip/audio.py\", line 95, in _linear_to_mel\n",
            "    _mel_basis = _build_mel_basis()\n",
            "                 ^^^^^^^^^^^^^^^^^^\n",
            "  File \"/content/Wav2Lip/audio.py\", line 100, in _build_mel_basis\n",
            "    return librosa.filters.mel(hp.sample_rate, hp.n_fft, n_mels=hp.num_mels,\n",
            "           ^^^^^^^^^^^^^^^^^^^^^^^^^^^^^^^^^^^^^^^^^^^^^^^^^^^^^^^^^^^^^^^^^\n",
            "TypeError: mel() takes 0 positional arguments but 2 positional arguments (and 3 keyword-only arguments) were given\n",
            "Lip-synced video saved to: /content/drive/My Drive/Checkpoints/lip_synced_output.mp4\n",
            "Output file exists: False\n"
          ]
        }
      ]
    },
    {
      "cell_type": "code",
      "source": [
        "yy# Patch inference.py to lower face detection threshold\n",
        "!cp Wav2Lip/inference.py Wav2Lip/inference.py.bak\n",
        "with open('Wav2Lip/inference.py', 'r') as file:\n",
        "    lines = file.readlines()\n",
        "with open('Wav2Lip/inference.py', 'w') as file:\n",
        "    for line in lines:\n",
        "        if 'det_batch = detector.detect_faces(frame, conf_th=0.8)' in line:\n",
        "            file.write(line.replace('conf_th=0.8', 'conf_th=0.6'))\n",
        "        else:\n",
        "            file.write(line)\n",
        "!grep \"conf_th\" Wav2Lip/inference.py\n",
        "\n",
        "import os\n",
        "# Define paths\n",
        "CHECKPOINTS_PATH = '/content/drive/My Drive/Checkpoints/'\n",
        "VIDEO_PATH = os.path.join(CHECKPOINTS_PATH, 'Video_input.mp4')\n",
        "AUDIO_PATH = os.path.join(CHECKPOINTS_PATH, 'extracted_audios.wav')\n",
        "CHECKPOINT_PATH = 'Wav2Lip/checkpoints/wav2lip_gan.pth'\n",
        "OUTPUT_PATH = os.path.join(CHECKPOINTS_PATH, 'lip_synced_output.mp4')\n",
        "\n",
        "# Verify inputs\n",
        "print(\"Video exists:\", os.path.exists(VIDEO_PATH))\n",
        "print(\"Audio exists:\", os.path.exists(AUDIO_PATH))\n",
        "print(\"Checkpoint exists:\", os.path.exists(CHECKPOINT_PATH))\n",
        "if not all([os.path.exists(VIDEO_PATH), os.path.exists(AUDIO_PATH), os.path.exists(CHECKPOINT_PATH)]):\n",
        "    print(\"One or more input files are missing. Please check paths or upload missing files:\")\n",
        "    from google.colab import files\n",
        "    uploaded = files.upload()\n",
        "    if 'Input_video.mp4' in uploaded:\n",
        "        !mv \"Input_video.mp4\" \"{CHECKPOINTS_PATH}\"\n",
        "    if 'extracted_audios.wav' in uploaded:\n",
        "        !mv \"extracted_audios.wav\" \"{CHECKPOINTS_PATH}\"\n",
        "    if 'wav2lip_gan.pth' in uploaded:\n",
        "        !mv \"wav2lip_gan.pth\" \"Wav2Lip/checkpoints/\"\n",
        "    print(\"Uploaded files moved. Re-check paths:\")\n",
        "    print(\"Video exists:\", os.path.exists(VIDEO_PATH))\n",
        "    print(\"Audio exists:\", os.path.exists(AUDIO_PATH))\n",
        "    print(\"Checkpoint exists:\", os.path.exists(CHECKPOINT_PATH))\n",
        "\n",
        "# Run Wav2Lip inference\n",
        "try:\n",
        "    !python Wav2Lip/inference.py --checkpoint_path \"{CHECKPOINT_PATH}\" --face \"{VIDEO_PATH}\" --audio \"{AUDIO_PATH}\" --outfile \"{OUTPUT_PATH}\"\n",
        "    print(\"Lip-synced video saved to:\", OUTPUT_PATH)\n",
        "    print(\"Output file exists:\", os.path.exists(OUTPUT_PATH))\n",
        "except Exception as e:\n",
        "    print(f\"Error running Wav2Lip inference: {e}\")"
      ],
      "metadata": {
        "colab": {
          "base_uri": "https://localhost:8080/"
        },
        "id": "9pb47z5iU0bf",
        "outputId": "058d5ad2-3fdf-4939-e61b-1615c84649bd"
      },
      "execution_count": null,
      "outputs": [
        {
          "output_type": "stream",
          "name": "stdout",
          "text": [
            "Video exists: True\n",
            "Audio exists: True\n",
            "Checkpoint exists: True\n",
            "Using cuda for inference.\n",
            "Reading video frames...\n",
            "^C\n",
            "Lip-synced video saved to: /content/drive/My Drive/Checkpoints/lip_synced_output.mp4\n",
            "Output file exists: False\n"
          ]
        }
      ]
    },
    {
      "cell_type": "code",
      "source": [
        "# Backup inference.py\n",
        "!cp Wav2Lip/inference.py Wav2Lip/inference.py.bak\n",
        "\n",
        "# Patch inference.py to lower face detection threshold\n",
        "with open('Wav2Lip/inference.py', 'r') as file:\n",
        "    lines = file.readlines()\n",
        "with open('Wav2Lip/inference.py', 'w') as file:\n",
        "    for line in lines:\n",
        "        # Adjust confidence threshold in face detection (default is 0.8)\n",
        "        if 'det_batch = detector.detect_faces(frame, conf_th=0.8)' in line:\n",
        "            file.write(line.replace('conf_th=0.8', 'conf_th=0.6'))\n",
        "        else:\n",
        "            file.write(line)\n",
        "\n",
        "# Optional: Verify patch\n",
        "!grep \"conf_th\" Wav2Lip/inference.py"
      ],
      "metadata": {
        "colab": {
          "base_uri": "https://localhost:8080/",
          "height": 228
        },
        "id": "Qsn5vXXQ47vG",
        "outputId": "dbd3b623-7192-49e0-c7a3-f7f452670f89"
      },
      "execution_count": null,
      "outputs": [
        {
          "output_type": "stream",
          "name": "stdout",
          "text": [
            "cp: cannot stat 'Wav2Lip/inference.py': No such file or directory\n"
          ]
        },
        {
          "output_type": "error",
          "ename": "FileNotFoundError",
          "evalue": "[Errno 2] No such file or directory: 'Wav2Lip/inference.py'",
          "traceback": [
            "\u001b[0;31m---------------------------------------------------------------------------\u001b[0m",
            "\u001b[0;31mFileNotFoundError\u001b[0m                         Traceback (most recent call last)",
            "\u001b[0;32m<ipython-input-1-dbd5a3e9958e>\u001b[0m in \u001b[0;36m<cell line: 0>\u001b[0;34m()\u001b[0m\n\u001b[1;32m      3\u001b[0m \u001b[0;34m\u001b[0m\u001b[0m\n\u001b[1;32m      4\u001b[0m \u001b[0;31m# Patch inference.py to lower face detection threshold\u001b[0m\u001b[0;34m\u001b[0m\u001b[0;34m\u001b[0m\u001b[0m\n\u001b[0;32m----> 5\u001b[0;31m \u001b[0;32mwith\u001b[0m \u001b[0mopen\u001b[0m\u001b[0;34m(\u001b[0m\u001b[0;34m'Wav2Lip/inference.py'\u001b[0m\u001b[0;34m,\u001b[0m \u001b[0;34m'r'\u001b[0m\u001b[0;34m)\u001b[0m \u001b[0;32mas\u001b[0m \u001b[0mfile\u001b[0m\u001b[0;34m:\u001b[0m\u001b[0;34m\u001b[0m\u001b[0;34m\u001b[0m\u001b[0m\n\u001b[0m\u001b[1;32m      6\u001b[0m     \u001b[0mlines\u001b[0m \u001b[0;34m=\u001b[0m \u001b[0mfile\u001b[0m\u001b[0;34m.\u001b[0m\u001b[0mreadlines\u001b[0m\u001b[0;34m(\u001b[0m\u001b[0;34m)\u001b[0m\u001b[0;34m\u001b[0m\u001b[0;34m\u001b[0m\u001b[0m\n\u001b[1;32m      7\u001b[0m \u001b[0;32mwith\u001b[0m \u001b[0mopen\u001b[0m\u001b[0;34m(\u001b[0m\u001b[0;34m'Wav2Lip/inference.py'\u001b[0m\u001b[0;34m,\u001b[0m \u001b[0;34m'w'\u001b[0m\u001b[0;34m)\u001b[0m \u001b[0;32mas\u001b[0m \u001b[0mfile\u001b[0m\u001b[0;34m:\u001b[0m\u001b[0;34m\u001b[0m\u001b[0;34m\u001b[0m\u001b[0m\n",
            "\u001b[0;31mFileNotFoundError\u001b[0m: [Errno 2] No such file or directory: 'Wav2Lip/inference.py'"
          ]
        }
      ]
    },
    {
      "cell_type": "code",
      "source": [
        "import os\n",
        "\n",
        "# Define paths\n",
        "CHECKPOINTS_PATH = '/content/drive/My Drive/Checkpoints/'\n",
        "VIDEO_PATH = os.path.join(CHECKPOINTS_PATH, 'Video_input.mp4')\n",
        "AUDIO_PATH = os.path.join(CHECKPOINTS_PATH, 'extracted_audios.wav')\n",
        "CHECKPOINT_PATH = 'Wav2Lip/checkpoints/wav2lip_gan.pth'\n",
        "OUTPUT_PATH = os.path.join(CHECKPOINTS_PATH, 'lip_synced_output.mp4')\n",
        "\n",
        "# Verify inputs\n",
        "print(\"Video exists:\", os.path.exists(VIDEO_PATH))\n",
        "print(\"Audio exists:\", os.path.exists(AUDIO_PATH))\n",
        "print(\"Checkpoint exists:\", os.path.exists(CHECKPOINT_PATH))\n",
        "if not all([os.path.exists(VIDEO_PATH), os.path.exists(AUDIO_PATH), os.path.exists(CHECKPOINT_PATH)]):\n",
        "    print(\"One or more input files are missing. Please check paths or upload missing files:\")\n",
        "    from google.colab import files\n",
        "    uploaded = files.upload()\n",
        "    if 'Video_input.mp4' in uploaded:\n",
        "        !mv \"Video_input.mp4\" \"{CHECKPOINTS_PATH}\"\n",
        "    if 'extracted_audios.wav' in uploaded:\n",
        "        !mv \"extracted_audios.wav\" \"{CHECKPOINTS_PATH}\"\n",
        "    if 'wav2lip_gan.pth' in uploaded:\n",
        "        !mv \"wav2lip_gan.pth\" \"Wav2Lip/checkpoints/\"\n",
        "    print(\"Uploaded files moved. Re-check paths:\")\n",
        "    print(\"Video exists:\", os.path.exists(VIDEO_PATH))\n",
        "    print(\"Audio exists:\", os.path.exists(AUDIO_PATH))\n",
        "    print(\"Checkpoint exists:\", os.path.exists(CHECKPOINT_PATH))\n",
        "\n",
        "# Verify libraries\n",
        "!pip install librosa==0.8.0 numpy==1.24.4 numba==0.60.0 llvmlite==0.43.0 opencv-contrib-python==4.11.0.86\n",
        "import importlib\n",
        "for lib in ['librosa', 'numpy', 'numba', 'cv2']:\n",
        "    try:\n",
        "        module = importlib.import_module(lib)\n",
        "        print(f\"{lib} version: {module.__version__}\")\n",
        "    except Exception as e:\n",
        "        print(f\"Failed to import {lib}: {e}\")\n",
        "\n",
        "# Verify audio.py\n",
        "!grep \"librosa.filters.mel\" Wav2Lip/audio.py\n",
        "\n",
        "# Patch inference.py to lower face detection threshold\n",
        "!cp Wav2Lip/inference.py Wav2Lip/inference.py.bak\n",
        "with open('Wav2Lip/inference.py', 'r') as file:\n",
        "    lines = file.readlines()\n",
        "with open('Wav2Lip/inference.py', 'w') as file:\n",
        "    for line in lines:\n",
        "        if 'det_batch = detector.detect_faces(frame, conf_th=0.8)' in line:\n",
        "            file.write(line.replace('conf_th=0.8', 'conf_th=0.6'))\n",
        "        else:\n",
        "            file.write(line)\n",
        "!grep \"conf_th\" Wav2Lip/inference.py\n",
        "\n",
        "# Run Wav2Lip inference with resize_factor for CUDA\n",
        "try:\n",
        "    !python Wav2Lip/inference.py --checkpoint_path \"{CHECKPOINT_PATH}\" --face \"{VIDEO_PATH}\" --audio \"{AUDIO_PATH}\" --outfile \"{OUTPUT_PATH}\" --resize_factor 2\n",
        "    print(\"Lip-synced video saved to:\", OUTPUT_PATH)\n",
        "    print(\"Output file exists:\", os.path.exists(OUTPUT_PATH))\n",
        "except Exception as e:\n",
        "    print(f\"Error running Wav2Lip inference: {e}\")"
      ],
      "metadata": {
        "colab": {
          "base_uri": "https://localhost:8080/",
          "height": 1000
        },
        "id": "5VBMZaCKB2oA",
        "outputId": "4b609a7c-4424-482a-cdc7-82b30648c3c7"
      },
      "execution_count": null,
      "outputs": [
        {
          "output_type": "stream",
          "name": "stdout",
          "text": [
            "Video exists: True\n",
            "Audio exists: True\n",
            "Checkpoint exists: True\n",
            "Collecting librosa==0.8.0\n",
            "  Downloading librosa-0.8.0.tar.gz (183 kB)\n",
            "\u001b[2K     \u001b[90m━━━━━━━━━━━━━━━━━━━━━━━━━━━━━━━━━━━━━━━\u001b[0m \u001b[32m183.9/183.9 kB\u001b[0m \u001b[31m5.4 MB/s\u001b[0m eta \u001b[36m0:00:00\u001b[0m\n",
            "\u001b[?25h  Preparing metadata (setup.py) ... \u001b[?25l\u001b[?25hdone\n",
            "Collecting numpy==1.24.4\n",
            "  Downloading numpy-1.24.4-cp311-cp311-manylinux_2_17_x86_64.manylinux2014_x86_64.whl.metadata (5.6 kB)\n",
            "Requirement already satisfied: numba==0.60.0 in /usr/local/lib/python3.11/dist-packages (0.60.0)\n",
            "Requirement already satisfied: llvmlite==0.43.0 in /usr/local/lib/python3.11/dist-packages (0.43.0)\n",
            "Requirement already satisfied: opencv-contrib-python==4.11.0.86 in /usr/local/lib/python3.11/dist-packages (4.11.0.86)\n",
            "Requirement already satisfied: audioread>=2.0.0 in /usr/local/lib/python3.11/dist-packages (from librosa==0.8.0) (3.0.1)\n",
            "Requirement already satisfied: scipy>=1.0.0 in /usr/local/lib/python3.11/dist-packages (from librosa==0.8.0) (1.15.2)\n",
            "Requirement already satisfied: scikit-learn!=0.19.0,>=0.14.0 in /usr/local/lib/python3.11/dist-packages (from librosa==0.8.0) (1.6.1)\n",
            "Requirement already satisfied: joblib>=0.14 in /usr/local/lib/python3.11/dist-packages (from librosa==0.8.0) (1.4.2)\n",
            "Requirement already satisfied: decorator>=3.0.0 in /usr/local/lib/python3.11/dist-packages (from librosa==0.8.0) (4.4.2)\n",
            "Collecting resampy>=0.2.2 (from librosa==0.8.0)\n",
            "  Downloading resampy-0.4.3-py3-none-any.whl.metadata (3.0 kB)\n",
            "Requirement already satisfied: soundfile>=0.9.0 in /usr/local/lib/python3.11/dist-packages (from librosa==0.8.0) (0.13.1)\n",
            "Requirement already satisfied: pooch>=1.0 in /usr/local/lib/python3.11/dist-packages (from librosa==0.8.0) (1.8.2)\n",
            "Requirement already satisfied: platformdirs>=2.5.0 in /usr/local/lib/python3.11/dist-packages (from pooch>=1.0->librosa==0.8.0) (4.3.7)\n",
            "Requirement already satisfied: packaging>=20.0 in /usr/local/lib/python3.11/dist-packages (from pooch>=1.0->librosa==0.8.0) (24.2)\n",
            "Requirement already satisfied: requests>=2.19.0 in /usr/local/lib/python3.11/dist-packages (from pooch>=1.0->librosa==0.8.0) (2.32.3)\n",
            "Requirement already satisfied: threadpoolctl>=3.1.0 in /usr/local/lib/python3.11/dist-packages (from scikit-learn!=0.19.0,>=0.14.0->librosa==0.8.0) (3.6.0)\n",
            "Requirement already satisfied: cffi>=1.0 in /usr/local/lib/python3.11/dist-packages (from soundfile>=0.9.0->librosa==0.8.0) (1.17.1)\n",
            "Requirement already satisfied: pycparser in /usr/local/lib/python3.11/dist-packages (from cffi>=1.0->soundfile>=0.9.0->librosa==0.8.0) (2.22)\n",
            "Requirement already satisfied: charset-normalizer<4,>=2 in /usr/local/lib/python3.11/dist-packages (from requests>=2.19.0->pooch>=1.0->librosa==0.8.0) (3.4.1)\n",
            "Requirement already satisfied: idna<4,>=2.5 in /usr/local/lib/python3.11/dist-packages (from requests>=2.19.0->pooch>=1.0->librosa==0.8.0) (3.10)\n",
            "Requirement already satisfied: urllib3<3,>=1.21.1 in /usr/local/lib/python3.11/dist-packages (from requests>=2.19.0->pooch>=1.0->librosa==0.8.0) (2.4.0)\n",
            "Requirement already satisfied: certifi>=2017.4.17 in /usr/local/lib/python3.11/dist-packages (from requests>=2.19.0->pooch>=1.0->librosa==0.8.0) (2025.4.26)\n",
            "Downloading numpy-1.24.4-cp311-cp311-manylinux_2_17_x86_64.manylinux2014_x86_64.whl (17.3 MB)\n",
            "\u001b[2K   \u001b[90m━━━━━━━━━━━━━━━━━━━━━━━━━━━━━━━━━━━━━━━━\u001b[0m \u001b[32m17.3/17.3 MB\u001b[0m \u001b[31m70.1 MB/s\u001b[0m eta \u001b[36m0:00:00\u001b[0m\n",
            "\u001b[?25hDownloading resampy-0.4.3-py3-none-any.whl (3.1 MB)\n",
            "\u001b[2K   \u001b[90m━━━━━━━━━━━━━━━━━━━━━━━━━━━━━━━━━━━━━━━━\u001b[0m \u001b[32m3.1/3.1 MB\u001b[0m \u001b[31m84.5 MB/s\u001b[0m eta \u001b[36m0:00:00\u001b[0m\n",
            "\u001b[?25hBuilding wheels for collected packages: librosa\n",
            "  Building wheel for librosa (setup.py) ... \u001b[?25l\u001b[?25hdone\n",
            "  Created wheel for librosa: filename=librosa-0.8.0-py3-none-any.whl size=201361 sha256=14321ad07baa3f77728c3809378874bfede842055b2ef0167c6be1717293d8d7\n",
            "  Stored in directory: /root/.cache/pip/wheels/8a/3a/85/2accb8befd6aecdb81eb4f54a856466e1e59d294a41a0bad73\n",
            "Successfully built librosa\n",
            "Installing collected packages: numpy, resampy, librosa\n",
            "  Attempting uninstall: numpy\n",
            "    Found existing installation: numpy 1.25.2\n",
            "    Uninstalling numpy-1.25.2:\n",
            "      Successfully uninstalled numpy-1.25.2\n",
            "  Attempting uninstall: librosa\n",
            "    Found existing installation: librosa 0.11.0\n",
            "    Uninstalling librosa-0.11.0:\n",
            "      Successfully uninstalled librosa-0.11.0\n",
            "\u001b[31mERROR: pip's dependency resolver does not currently take into account all the packages that are installed. This behaviour is the source of the following dependency conflicts.\n",
            "jax 0.5.2 requires numpy>=1.25, but you have numpy 1.24.4 which is incompatible.\n",
            "treescope 0.1.9 requires numpy>=1.25.2, but you have numpy 1.24.4 which is incompatible.\n",
            "pymc 5.22.0 requires numpy>=1.25.0, but you have numpy 1.24.4 which is incompatible.\n",
            "blosc2 3.3.1 requires numpy>=1.26, but you have numpy 1.24.4 which is incompatible.\n",
            "thinc 8.3.6 requires numpy<3.0.0,>=2.0.0, but you have numpy 1.24.4 which is incompatible.\n",
            "jaxlib 0.5.1 requires numpy>=1.25, but you have numpy 1.24.4 which is incompatible.\n",
            "tensorflow 2.18.0 requires numpy<2.1.0,>=1.26.0, but you have numpy 1.24.4 which is incompatible.\u001b[0m\u001b[31m\n",
            "\u001b[0mSuccessfully installed librosa-0.8.0 numpy-1.24.4 resampy-0.4.3\n"
          ]
        },
        {
          "output_type": "display_data",
          "data": {
            "application/vnd.colab-display-data+json": {
              "pip_warning": {
                "packages": [
                  "librosa",
                  "numpy"
                ]
              },
              "id": "44dc25d98a884cee9b27302f71fd2ef1"
            }
          },
          "metadata": {}
        },
        {
          "output_type": "stream",
          "name": "stdout",
          "text": [
            "librosa version: 0.11.0\n",
            "numpy version: 1.25.2\n",
            "numba version: 0.60.0\n",
            "cv2 version: 4.11.0\n",
            "    return librosa.filters.mel(hp.sample_rate, hp.n_fft, n_mels=hp.num_mels,\n",
            "Traceback (most recent call last):\n",
            "  File \"/content/Wav2Lip/inference.py\", line 3, in <module>\n",
            "    import scipy, cv2, os, sys, argparse, audio\n",
            "  File \"/content/Wav2Lip/audio.py\", line 1, in <module>\n",
            "    import librosa\n",
            "  File \"/usr/local/lib/python3.11/dist-packages/librosa/__init__.py\", line 211, in <module>\n",
            "    from . import core\n",
            "  File \"/usr/local/lib/python3.11/dist-packages/librosa/core/__init__.py\", line 9, in <module>\n",
            "    from .constantq import *  # pylint: disable=wildcard-import\n",
            "    ^^^^^^^^^^^^^^^^^^^^^^^^\n",
            "  File \"/usr/local/lib/python3.11/dist-packages/librosa/core/constantq.py\", line 1058, in <module>\n",
            "    dtype=np.complex,\n",
            "          ^^^^^^^^^^\n",
            "  File \"/usr/local/lib/python3.11/dist-packages/numpy/__init__.py\", line 305, in __getattr__\n",
            "    raise AttributeError(__former_attrs__[attr])\n",
            "AttributeError: module 'numpy' has no attribute 'complex'.\n",
            "`np.complex` was a deprecated alias for the builtin `complex`. To avoid this error in existing code, use `complex` by itself. Doing this will not modify any behavior and is safe. If you specifically wanted the numpy scalar type, use `np.complex128` here.\n",
            "The aliases was originally deprecated in NumPy 1.20; for more details and guidance see the original release note at:\n",
            "    https://numpy.org/devdocs/release/1.20.0-notes.html#deprecations. Did you mean: 'complex_'?\n",
            "Lip-synced video saved to: /content/drive/My Drive/Checkpoints/lip_synced_output.mp4\n",
            "Output file exists: False\n"
          ]
        }
      ]
    },
    {
      "cell_type": "code",
      "source": [],
      "metadata": {
        "id": "uWstqH9EcRym"
      },
      "execution_count": null,
      "outputs": []
    }
  ]
}